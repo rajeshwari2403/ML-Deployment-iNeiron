{
 "cells": [
  {
   "cell_type": "markdown",
   "metadata": {},
   "source": [
    "# First Assignment 10/15/2019"
   ]
  },
  {
   "cell_type": "markdown",
   "metadata": {},
   "source": [
    "# Task 1"
   ]
  },
  {
   "cell_type": "raw",
   "metadata": {},
   "source": [
    "1. Install Jupyter notebook and run the first program and share the screenshot of the output.\n"
   ]
  },
  {
   "cell_type": "code",
   "execution_count": 1,
   "metadata": {},
   "outputs": [
    {
     "name": "stdout",
     "output_type": "stream",
     "text": [
      "This is my First Python Program\n"
     ]
    }
   ],
   "source": [
    "print(\"This is my First Python Program\")"
   ]
  },
  {
   "cell_type": "raw",
   "metadata": {},
   "source": [
    "2. Write a program which will find all such numbers which are divisible by 7 but are not a multiple\n",
    "of 5, between 2000 and 3200 (both included). The numbers obtained should be printed in a\n",
    "comma-separated sequence on a single line"
   ]
  },
  {
   "cell_type": "code",
   "execution_count": 1,
   "metadata": {},
   "outputs": [
    {
     "name": "stdout",
     "output_type": "stream",
     "text": [
      "2007 ,2014 ,2021 ,2028 ,2042 ,2049 ,2056 ,2063 ,2077 ,2084 ,2091 ,2098 ,2112 ,2119 ,2126 ,2133 ,2147 ,2154 ,2161 ,2168 ,2182 ,2189 ,2196 ,2203 ,2217 ,2224 ,2231 ,2238 ,2252 ,2259 ,2266 ,2273 ,2287 ,2294 ,2301 ,2308 ,2322 ,2329 ,2336 ,2343 ,2357 ,2364 ,2371 ,2378 ,2392 ,2399 ,2406 ,2413 ,2427 ,2434 ,2441 ,2448 ,2462 ,2469 ,2476 ,2483 ,2497 ,2504 ,2511 ,2518 ,2532 ,2539 ,2546 ,2553 ,2567 ,2574 ,2581 ,2588 ,2602 ,2609 ,2616 ,2623 ,2637 ,2644 ,2651 ,2658 ,2672 ,2679 ,2686 ,2693 ,2707 ,2714 ,2721 ,2728 ,2742 ,2749 ,2756 ,2763 ,2777 ,2784 ,2791 ,2798 ,2812 ,2819 ,2826 ,2833 ,2847 ,2854 ,2861 ,2868 ,2882 ,2889 ,2896 ,2903 ,2917 ,2924 ,2931 ,2938 ,2952 ,2959 ,2966 ,2973 ,2987 ,2994 ,3001 ,3008 ,3022 ,3029 ,3036 ,3043 ,3057 ,3064 ,3071 ,3078 ,3092 ,3099 ,3106 ,3113 ,3127 ,3134 ,3141 ,3148 ,3162 ,3169 ,3176 ,3183 ,3197 ,"
     ]
    }
   ],
   "source": [
    "p = []\n",
    "k=5\n",
    "for a in list(range(2000,3201,7)):\n",
    "    if a % k == 0:\n",
    "        continue      \n",
    "    print(a,\",\",end=\"\")"
   ]
  },
  {
   "cell_type": "raw",
   "metadata": {},
   "source": [
    "3. Write a Python program to accept the user's first and last name and then getting them printed in\n",
    "the the reverse order with a space between first name and last name.\n"
   ]
  },
  {
   "cell_type": "code",
   "execution_count": 4,
   "metadata": {},
   "outputs": [
    {
     "name": "stdout",
     "output_type": "stream",
     "text": [
      "Enter your First Name: Krish\n",
      "Enter your Last Name: Naik\n",
      "\n",
      "Reverse order:  kiaN hsirK\n"
     ]
    }
   ],
   "source": [
    "FirstName = input('Enter your First Name: ')\n",
    "LastName = input('Enter your Last Name: ')\n",
    "\n",
    "name = FirstName +\" \"+LastName\n",
    "print(\"\\nReverse order: \", name[::-1])"
   ]
  },
  {
   "cell_type": "raw",
   "metadata": {},
   "source": [
    "4. Write a Python program to find the volume of a sphere with diameter 12 cm"
   ]
  },
  {
   "cell_type": "code",
   "execution_count": 5,
   "metadata": {},
   "outputs": [
    {
     "name": "stdout",
     "output_type": "stream",
     "text": [
      "volume of sphere:  7238.229473870882\n"
     ]
    }
   ],
   "source": [
    "import math\n",
    "\n",
    "d = 12\n",
    "volume = (4/3)*math.pi*((d/2) ** 3)\n",
    "print('volume of sphere: ', volume)"
   ]
  },
  {
   "cell_type": "markdown",
   "metadata": {},
   "source": [
    "# Task 2"
   ]
  },
  {
   "cell_type": "raw",
   "metadata": {},
   "source": [
    "1. Write a program which accepts a sequence of comma-separated numbers from console and\n",
    "generate a list"
   ]
  },
  {
   "cell_type": "code",
   "execution_count": 6,
   "metadata": {},
   "outputs": [
    {
     "name": "stdout",
     "output_type": "stream",
     "text": [
      "Enter comma seperated numbers: 1,2,3,4,5,6,7,8\n",
      "List:  ['1', '2', '3', '4', '5', '6', '7', '8']\n"
     ]
    }
   ],
   "source": [
    "values = input('Enter comma seperated numbers: ')\n",
    "\n",
    "list = values.split(\",\")\n",
    "\n",
    "print(\"List: \", list)"
   ]
  },
  {
   "cell_type": "raw",
   "metadata": {},
   "source": [
    "2. Create the below pattern using nested for loop in Python"
   ]
  },
  {
   "cell_type": "code",
   "execution_count": 11,
   "metadata": {},
   "outputs": [
    {
     "name": "stdout",
     "output_type": "stream",
     "text": [
      "\n",
      "*\n",
      "**\n",
      "***\n",
      "****\n",
      "*****\n",
      "****\n",
      "***\n",
      "**\n",
      "*\n"
     ]
    }
   ],
   "source": [
    "k =5\n",
    "for i in range(k):\n",
    "    for j in range(i):\n",
    "        print('*', end=\"\")\n",
    "    print('')\n",
    "    \n",
    "for i in range(k,0,-1):\n",
    "    for j in range(i):\n",
    "        print('*', end=\"\")\n",
    "    print('')    \n",
    "    "
   ]
  },
  {
   "cell_type": "raw",
   "metadata": {},
   "source": [
    "3. Write a Python program to reverse a word after accepting the input from the user.\n"
   ]
  },
  {
   "cell_type": "code",
   "execution_count": 14,
   "metadata": {},
   "outputs": [
    {
     "name": "stdout",
     "output_type": "stream",
     "text": [
      "Enter a word: iNeuron\n",
      "\n",
      "Reverse order norueNi\n"
     ]
    }
   ],
   "source": [
    "word = input('Enter a word: ')\n",
    "print('\\nReverse order',word[::-1])"
   ]
  },
  {
   "cell_type": "raw",
   "metadata": {},
   "source": [
    "4. Write a Python Program to print the given string in the format specified in the sample output"
   ]
  },
  {
   "cell_type": "code",
   "execution_count": 18,
   "metadata": {},
   "outputs": [
    {
     "name": "stdout",
     "output_type": "stream",
     "text": [
      "WE, THE PEOPLE OF INDIA,\n",
      "\thaving solemnly resolved to constitute India into a SOVEREIGN, !\n",
      "\t\tSOCIALIST, SECULAR, DEMOCRATIC REPUBLIC\n",
      "\t\t and to secure to all its citizens\n"
     ]
    }
   ],
   "source": [
    "str = \"WE, THE PEOPLE OF INDIA,\\n\\thaving solemnly resolved to constitute India into a SOVEREIGN, !\\n\\t\\tSOCIALIST, SECULAR, DEMOCRATIC REPUBLIC\\n\\t\\t and to secure to all its citizens\"\n",
    "\n",
    "print(str)"
   ]
  },
  {
   "cell_type": "code",
   "execution_count": null,
   "metadata": {},
   "outputs": [],
   "source": [
    "######### end of assignment #########"
   ]
  },
  {
   "cell_type": "code",
   "execution_count": null,
   "metadata": {},
   "outputs": [],
   "source": []
  }
 ],
 "metadata": {
  "kernelspec": {
   "display_name": "Python 3",
   "language": "python",
   "name": "python3"
  },
  "language_info": {
   "codemirror_mode": {
    "name": "ipython",
    "version": 3
   },
   "file_extension": ".py",
   "mimetype": "text/x-python",
   "name": "python",
   "nbconvert_exporter": "python",
   "pygments_lexer": "ipython3",
   "version": "3.7.3"
  }
 },
 "nbformat": 4,
 "nbformat_minor": 2
}
